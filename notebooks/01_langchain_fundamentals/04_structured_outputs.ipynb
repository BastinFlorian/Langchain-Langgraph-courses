{
 "cells": [
  {
   "cell_type": "code",
   "execution_count": 7,
   "metadata": {},
   "outputs": [],
   "source": [
    "!pip install -q langchain-google-genai python-dotenv langchain-core pydantic"
   ]
  },
  {
   "cell_type": "code",
   "execution_count": 8,
   "metadata": {},
   "outputs": [],
   "source": [
    "\"\"\"\n",
    "Structured Outputs with LangChain and Google Gemini\n",
    "==================================================\n",
    "\n",
    "In this notebook, we learn:\n",
    "- Using .with_structured_output() method\n",
    "- Defining Pydantic models for structured data\n",
    "- Extracting structured information from text\n",
    "- Working with different data types and validation\n",
    "\n",
    "Official documentation:\n",
    "- LangChain Structured Outputs: https://python.langchain.com/docs/concepts/structured_outputs/\n",
    "- Pydantic Models: https://docs.pydantic.dev/latest/concepts/models/\n",
    "\"\"\"\n",
    "\n",
    "from enum import Enum\n",
    "\n",
    "from dotenv import load_dotenv\n",
    "\n",
    "# First, let's handle pydantic import with error handling\n",
    "\n",
    "from typing import List, Optional\n",
    "\n",
    "from pydantic import BaseModel, Field"
   ]
  },
  {
   "cell_type": "code",
   "execution_count": 9,
   "metadata": {},
   "outputs": [],
   "source": [
    "from langchain_google_genai import ChatGoogleGenerativeAI\n",
    "\n",
    "# Load environment variables\n",
    "load_dotenv()\n",
    "\n",
    "# Initialize the model\n",
    "llm = ChatGoogleGenerativeAI(\n",
    "    model=\"gemini-2.5-flash\",\n",
    "    temperature=0.7,\n",
    "    max_tokens=1000,\n",
    ")"
   ]
  },
  {
   "cell_type": "markdown",
   "metadata": {},
   "source": [
    "✅ Gemini 2.5 Flash model initialized"
   ]
  },
  {
   "cell_type": "code",
   "execution_count": 10,
   "metadata": {},
   "outputs": [],
   "source": [
    "\n",
    "# ============================================================================="
   ]
  },
  {
   "cell_type": "markdown",
   "metadata": {},
   "source": [
    "## 1. BASIC STRUCTURED OUTPUT"
   ]
  },
  {
   "cell_type": "markdown",
   "metadata": {},
   "source": [
    "\\n🏗️ 1. Basic Structured Output"
   ]
  },
  {
   "cell_type": "code",
   "execution_count": 11,
   "metadata": {},
   "outputs": [
    {
     "name": "stdout",
     "output_type": "stream",
     "text": [
      "Input text: Hi, my name is Sarah Johnson and I'm 28 years old.\n",
      "I work as a software engineer in San Francisco, California.\n",
      "I love coding and building web applications.\n",
      "\n",
      "--------------------------------------------------\n",
      "✅ Structured output type: <class '__main__.PersonInfo'>\n",
      "Name: Sarah Johnson\n",
      "Age: 28\n",
      "Profession: software engineer\n",
      "Location: San Francisco, California\n",
      "\n",
      "As Python dict: {'name': 'Sarah Johnson', 'age': 28, 'profession': 'software engineer', 'location': 'San Francisco, California'}\n"
     ]
    }
   ],
   "source": [
    "\n",
    "# Define a simple Pydantic model\n",
    "\n",
    "\n",
    "class PersonInfo(BaseModel):\n",
    "    \"\"\"Information about a person extracted from text.\"\"\"\n",
    "    name: str = Field(description=\"The person's full name\")\n",
    "    age: Optional[int] = Field(\n",
    "        description=\"The person's age if mentioned\", default=None)\n",
    "    profession: Optional[str] = Field(\n",
    "        description=\"The person's job or profession\", default=None)\n",
    "    location: Optional[str] = Field(\n",
    "        description=\"Where the person lives or is from\", default=None)\n",
    "\n",
    "\n",
    "# Create structured LLM\n",
    "structured_llm = llm.with_structured_output(PersonInfo)\n",
    "\n",
    "# Test with sample text\n",
    "text_about_person = \"\"\"\n",
    "Hi, my name is Sarah Johnson and I'm 28 years old.\n",
    "I work as a software engineer in San Francisco, California.\n",
    "I love coding and building web applications.\n",
    "\"\"\"\n",
    "\n",
    "print(f\"Input text: {text_about_person.strip()}\")\n",
    "print(\"\\n\" + \"-\" * 50)\n",
    "\n",
    "try:\n",
    "    # Get structured output\n",
    "    person_data = structured_llm.invoke(\n",
    "        f\"Extract person information from this text: {text_about_person}\")\n",
    "\n",
    "    print(f\"✅ Structured output type: {type(person_data)}\")\n",
    "    print(f\"Name: {person_data.name}\")\n",
    "    print(f\"Age: {person_data.age}\")\n",
    "    print(f\"Profession: {person_data.profession}\")\n",
    "    print(f\"Location: {person_data.location}\")\n",
    "\n",
    "    # Show it's a proper Python object\n",
    "    print(f\"\\nAs Python dict: {person_data.model_dump()}\")\n",
    "\n",
    "except Exception as e:\n",
    "    print(f\"❌ Structured output error: {e}\")\n",
    "\n",
    "# ============================================================================="
   ]
  },
  {
   "cell_type": "markdown",
   "metadata": {},
   "source": [
    "## 2. COMPLEX STRUCTURED OUTPUT"
   ]
  },
  {
   "cell_type": "markdown",
   "metadata": {},
   "source": [
    "\\n📊 2. Complex Structured Output with Lists and Validation"
   ]
  },
  {
   "cell_type": "code",
   "execution_count": 12,
   "metadata": {},
   "outputs": [
    {
     "name": "stdout",
     "output_type": "stream",
     "text": [
      "Review text: \n",
      "I bought this laptop last month and I'm really impressed! The battery life is amazing -\n",
      "I can work ...\n",
      "\n",
      "--------------------------------------------------\n",
      "✅ Product: Laptop\n",
      "Rating: 4/5 stars\n",
      "Sentiment: positive\n",
      "Pros: Amazing battery life (8 hours), Bright and crisp screen, Solid build quality\n",
      "Cons: Gets hot during intensive tasks, Keyboard feels cheap, Higher price than expected\n",
      "Would recommend: True\n",
      "Analysis confidence: 0.90\n"
     ]
    }
   ],
   "source": [
    "\n",
    "\n",
    "class ProductReview(BaseModel):\n",
    "    \"\"\"Product review analysis with multiple data types.\"\"\"\n",
    "    product_name: str = Field(description=\"Name of the product being reviewed\")\n",
    "    rating: int = Field(description=\"Rating from 1 to 5 stars\", ge=1, le=5)\n",
    "    sentiment: str = Field(\n",
    "        description=\"Overall sentiment: positive, negative, or neutral\")\n",
    "    pros: List[str] = Field(description=\"List of positive aspects mentioned\")\n",
    "    cons: List[str] = Field(description=\"List of negative aspects mentioned\")\n",
    "    would_recommend: bool = Field(\n",
    "        description=\"Whether the reviewer would recommend the product\")\n",
    "    confidence: float = Field(\n",
    "        description=\"Confidence in the analysis from 0.0 to 1.0\", ge=0.0, le=1.0)\n",
    "\n",
    "\n",
    "# Create review analysis LLM\n",
    "review_llm = llm.with_structured_output(ProductReview)\n",
    "\n",
    "review_text = \"\"\"\n",
    "I bought this laptop last month and I'm really impressed! The battery life is amazing -\n",
    "I can work for 8 hours straight without plugging in. The screen is bright and crisp,\n",
    "perfect for coding and watching videos. The build quality feels solid too.\n",
    "\n",
    "However, it does get quite hot during intensive tasks like video editing, and the\n",
    "keyboard feels a bit cheap compared to my old ThinkPad. Also, the price was higher\n",
    "than I expected for these specs.\n",
    "\n",
    "Overall, I'd give it 4 stars and would definitely recommend it to others looking\n",
    "for a good work laptop. It's not perfect, but the pros outweigh the cons.\n",
    "\"\"\"\n",
    "\n",
    "print(f\"Review text: {review_text[:100]}...\")\n",
    "print(\"\\n\" + \"-\" * 50)\n",
    "\n",
    "try:\n",
    "    review_analysis = review_llm.invoke(\n",
    "        f\"Analyze this product review: {review_text}\")\n",
    "\n",
    "    print(f\"✅ Product: {review_analysis.product_name}\")\n",
    "    print(f\"Rating: {review_analysis.rating}/5 stars\")\n",
    "    print(f\"Sentiment: {review_analysis.sentiment}\")\n",
    "    print(f\"Pros: {', '.join(review_analysis.pros)}\")\n",
    "    print(f\"Cons: {', '.join(review_analysis.cons)}\")\n",
    "    print(f\"Would recommend: {review_analysis.would_recommend}\")\n",
    "    print(f\"Analysis confidence: {review_analysis.confidence:.2f}\")\n",
    "\n",
    "except Exception as e:\n",
    "    print(f\"❌ Review analysis error: {e}\")\n",
    "\n",
    "# ============================================================================="
   ]
  },
  {
   "cell_type": "markdown",
   "metadata": {},
   "source": [
    "## 3. NESTED STRUCTURED OUTPUT"
   ]
  },
  {
   "cell_type": "markdown",
   "metadata": {},
   "source": [
    "\\n🔗 3. Nested Structured Output"
   ]
  },
  {
   "cell_type": "code",
   "execution_count": 13,
   "metadata": {},
   "outputs": [
    {
     "name": "stdout",
     "output_type": "stream",
     "text": [
      "Business card text:\n",
      "\n",
      "John Smith\n",
      "Senior Software Engineer\n",
      "TechCorp Solutions\n",
      "\n",
      "123 Innovation Drive\n",
      "San Francisco, CA 94105\n",
      "United States\n",
      "\n",
      "Email: john.smith@techcorp.com\n",
      "Phone: +1 (555) 123-4567\n",
      "\n",
      "--------------------------------------------------\n",
      "✅ Name: John Smith\n",
      "Title: Senior Software Engineer\n",
      "Company: TechCorp Solutions\n",
      "Address: 123 Innovation Drive, San Francisco, United States\n",
      "Email: john.smith@techcorp.com\n",
      "Phone: +1 (555) 123-4567\n",
      "\n",
      "Complete structured data: {'name': 'John Smith', 'title': 'Senior Software Engineer', 'company': 'TechCorp Solutions', 'address': {'street': '123 Innovation Drive', 'city': 'San Francisco', 'country': 'United States'}, 'contact': {'email': 'john.smith@techcorp.com', 'phone': '+1 (555) 123-4567'}}\n"
     ]
    }
   ],
   "source": [
    "\n",
    "\n",
    "class Address(BaseModel):\n",
    "    \"\"\"Address information.\"\"\"\n",
    "    street: Optional[str] = Field(description=\"Street address\", default=None)\n",
    "    city: Optional[str] = Field(description=\"City name\", default=None)\n",
    "    country: Optional[str] = Field(description=\"Country name\", default=None)\n",
    "\n",
    "\n",
    "class ContactInfo(BaseModel):\n",
    "    \"\"\"Contact information.\"\"\"\n",
    "    email: Optional[str] = Field(description=\"Email address\", default=None)\n",
    "    phone: Optional[str] = Field(description=\"Phone number\", default=None)\n",
    "\n",
    "\n",
    "class BusinessCard(BaseModel):\n",
    "    \"\"\"Complete business card information.\"\"\"\n",
    "    name: str = Field(description=\"Person's full name\")\n",
    "    title: Optional[str] = Field(description=\"Job title\", default=None)\n",
    "    company: Optional[str] = Field(description=\"Company name\", default=None)\n",
    "    address: Address = Field(description=\"Address information\")\n",
    "    contact: ContactInfo = Field(description=\"Contact information\")\n",
    "\n",
    "\n",
    "# Create business card parser\n",
    "card_llm = llm.with_structured_output(BusinessCard)\n",
    "\n",
    "business_card_text = \"\"\"\n",
    "John Smith\n",
    "Senior Software Engineer\n",
    "TechCorp Solutions\n",
    "\n",
    "123 Innovation Drive\n",
    "San Francisco, CA 94105\n",
    "United States\n",
    "\n",
    "Email: john.smith@techcorp.com\n",
    "Phone: +1 (555) 123-4567\n",
    "\"\"\"\n",
    "\n",
    "print(f\"Business card text:\\n{business_card_text}\")\n",
    "print(\"-\" * 50)\n",
    "\n",
    "try:\n",
    "    card_data = card_llm.invoke(\n",
    "        f\"Extract all information from this business card: {business_card_text}\")\n",
    "\n",
    "    print(f\"✅ Name: {card_data.name}\")\n",
    "    print(f\"Title: {card_data.title}\")\n",
    "    print(f\"Company: {card_data.company}\")\n",
    "    print(\n",
    "        f\"Address: {card_data.address.street}, {card_data.address.city}, {card_data.address.country}\")\n",
    "    print(f\"Email: {card_data.contact.email}\")\n",
    "    print(f\"Phone: {card_data.contact.phone}\")\n",
    "\n",
    "    print(f\"\\nComplete structured data: {card_data.model_dump()}\")\n",
    "\n",
    "except Exception as e:\n",
    "    print(f\"❌ Business card parsing error: {e}\")\n",
    "\n",
    "# ============================================================================="
   ]
  },
  {
   "cell_type": "markdown",
   "metadata": {},
   "source": [
    "## 4. MULTIPLE CHOICE STRUCTURED OUTPUT"
   ]
  },
  {
   "cell_type": "markdown",
   "metadata": {},
   "source": [
    "\\n📋 4. Multiple Choice and Enums"
   ]
  },
  {
   "cell_type": "code",
   "execution_count": 14,
   "metadata": {},
   "outputs": [
    {
     "name": "stdout",
     "output_type": "stream",
     "text": [
      "Support request: \n",
      "Hi support team,\n",
      "\n",
      "Our website has been loading very slowly for the past 3 days.\n",
      "Pages that used to ...\n",
      "\n",
      "--------------------------------------------------\n",
      "✅ Title: Website loading very slowly\n",
      "Priority: urgent\n",
      "Category: bug\n",
      "Description: Our website has been loading very slowly for the past 3 days. Pages that used to load in 2-3 seconds...\n",
      "Estimated hours: None\n",
      "Requires customer input: False\n"
     ]
    }
   ],
   "source": [
    "\n",
    "\n",
    "class Priority(str, Enum):\n",
    "    LOW = \"low\"\n",
    "    MEDIUM = \"medium\"\n",
    "    HIGH = \"high\"\n",
    "    URGENT = \"urgent\"\n",
    "\n",
    "\n",
    "class Category(str, Enum):\n",
    "    BUG = \"bug\"\n",
    "    FEATURE = \"feature\"\n",
    "    IMPROVEMENT = \"improvement\"\n",
    "    DOCUMENTATION = \"documentation\"\n",
    "\n",
    "\n",
    "class TicketInfo(BaseModel):\n",
    "    \"\"\"Support ticket information.\"\"\"\n",
    "    title: str = Field(description=\"Short title summarizing the issue\")\n",
    "    description: str = Field(description=\"Detailed description of the issue\")\n",
    "    priority: Priority = Field(description=\"Priority level of the ticket\")\n",
    "    category: Category = Field(description=\"Type/category of the ticket\")\n",
    "    estimated_hours: Optional[int] = Field(\n",
    "        description=\"Estimated hours to resolve\", default=None)\n",
    "    requires_customer_input: bool = Field(\n",
    "        description=\"Whether customer input is needed\")\n",
    "\n",
    "\n",
    "# Create ticket analyzer\n",
    "ticket_llm = llm.with_structured_output(TicketInfo)\n",
    "\n",
    "support_request = \"\"\"\n",
    "Hi support team,\n",
    "\n",
    "Our website has been loading very slowly for the past 3 days.\n",
    "Pages that used to load in 2-3 seconds are now taking 15-20 seconds.\n",
    "This is affecting our sales and customer experience significantly.\n",
    "\n",
    "We've tried clearing cache and cookies but the problem persists.\n",
    "Please help us resolve this as soon as possible as it's impacting our business.\n",
    "\n",
    "Best regards,\n",
    "Customer\n",
    "\"\"\"\n",
    "\n",
    "print(f\"Support request: {support_request[:100]}...\")\n",
    "print(\"\\n\" + \"-\" * 50)\n",
    "\n",
    "try:\n",
    "    ticket_data = ticket_llm.invoke(\n",
    "        f\"Create a support ticket from this request: {support_request}\")\n",
    "\n",
    "    print(f\"✅ Title: {ticket_data.title}\")\n",
    "    print(f\"Priority: {ticket_data.priority.value}\")\n",
    "    print(f\"Category: {ticket_data.category.value}\")\n",
    "    print(f\"Description: {ticket_data.description[:100]}...\")\n",
    "    print(f\"Estimated hours: {ticket_data.estimated_hours}\")\n",
    "    print(f\"Requires customer input: {ticket_data.requires_customer_input}\")\n",
    "\n",
    "except Exception as e:\n",
    "    print(f\"❌ Ticket creation error: {e}\")\n",
    "\n",
    "# ============================================================================="
   ]
  },
  {
   "cell_type": "markdown",
   "metadata": {},
   "source": [
    "## 5. ERROR HANDLING AND VALIDATION"
   ]
  },
  {
   "cell_type": "markdown",
   "metadata": {},
   "source": [
    "🛡️ 5. Error Handling and Validation"
   ]
  },
  {
   "cell_type": "code",
   "execution_count": 15,
   "metadata": {},
   "outputs": [
    {
     "name": "stdout",
     "output_type": "stream",
     "text": [
      "Edge case text: This amazing free product costs nothing and belongs to the electronics123 category\n",
      "--------------------------------------------------\n",
      "⚠️ Validation error (expected): 2 validation errors for StrictProduct\n",
      "price\n",
      "  Input should be greater than 0 [type=greater_than, input_value=0, input_type=int]\n",
      "    For further information visit https://errors.pydantic.dev/2.11/v/greater_than\n",
      "category\n",
      "  String should match pattern '^[a-zA-Z ]+$' [type=string_pattern_mismatch, input_value='electronics123', input_type=str]\n",
      "    For further information visit https://errors.pydantic.dev/2.11/v/string_pattern_mismatch\n"
     ]
    }
   ],
   "source": [
    "\n",
    "\n",
    "class StrictProduct(BaseModel):\n",
    "    \"\"\"Product with strict validation.\"\"\"\n",
    "    name: str = Field(description=\"Product name\", min_length=1, max_length=100)\n",
    "    price: float = Field(description=\"Product price in USD\", gt=0, le=10000)\n",
    "    in_stock: bool = Field(description=\"Whether product is in stock\")\n",
    "    category: str = Field(description=\"Product category\",\n",
    "                          pattern=\"^[a-zA-Z ]+$\")\n",
    "\n",
    "\n",
    "strict_llm = llm.with_structured_output(StrictProduct)\n",
    "\n",
    "# Test with edge case\n",
    "edge_case_text = \"This amazing free product costs nothing and belongs to the electronics123 category\"\n",
    "\n",
    "print(f\"Edge case text: {edge_case_text}\")\n",
    "print(\"-\" * 50)\n",
    "\n",
    "try:\n",
    "    product_data = strict_llm.invoke(\n",
    "        f\"Extract product information: {edge_case_text}\")\n",
    "    print(f\"✅ Product extracted: {product_data}\")\n",
    "except Exception as e:\n",
    "    print(f\"⚠️ Validation error (expected): {e}\")"
   ]
  },
  {
   "cell_type": "markdown",
   "metadata": {},
   "source": [
    "Note: This demonstrates Pydantic's validation capabilities"
   ]
  },
  {
   "cell_type": "markdown",
   "metadata": {},
   "source": [
    "## 6. PRACTICAL EXAMPLE: EMAIL CLASSIFICATION"
   ]
  },
  {
   "cell_type": "markdown",
   "metadata": {},
   "source": [
    "📧 6. Practical Example: Email Classification"
   ]
  },
  {
   "cell_type": "code",
   "execution_count": 17,
   "metadata": {},
   "outputs": [
    {
     "name": "stdout",
     "output_type": "stream",
     "text": [
      "Email sample: \n",
      "Subject: URGENT: Server outage affecting production environment\n",
      "\n",
      "Hi DevOps Team,\n",
      "\n",
      "We're experiencin...\n",
      "\n",
      "--------------------------------------------------\n",
      "✅ Subject: URGENT: Server outage affecting production environment\n",
      "Category: support\n",
      "Urgency: high\n",
      "Sender type: internal\n",
      "Action required: True\n",
      "Key points: complete server outage on main production environment, all user-facing services are down, issue started at 2:30 PM EST, might be related to the database server, escalate to on-call engineers immediately, need status update within 30 minutes\n",
      "Suggested response time: immediate\n"
     ]
    }
   ],
   "source": [
    "\n",
    "\n",
    "class EmailClassification(BaseModel):\n",
    "    \"\"\"Email classification and analysis.\"\"\"\n",
    "    subject: str = Field(description=\"Email subject line\")\n",
    "    category: str = Field(\n",
    "        description=\"Email category: spam, important, newsletter, support, personal\")\n",
    "    urgency: str = Field(description=\"Urgency level: low, medium, high\")\n",
    "    sender_type: str = Field(\n",
    "        description=\"Type of sender: customer, vendor, internal, unknown\")\n",
    "    action_required: bool = Field(\n",
    "        description=\"Whether action is required from recipient\")\n",
    "    key_points: List[str] = Field(\n",
    "        description=\"Main points or topics in the email\")\n",
    "    suggested_response_time: str = Field(\n",
    "        description=\"Suggested response time: immediate, today, this_week, no_response\")\n",
    "\n",
    "\n",
    "email_classifier = llm.with_structured_output(EmailClassification)\n",
    "\n",
    "sample_email = \"\"\"\n",
    "Subject: URGENT: Server outage affecting production environment\n",
    "\n",
    "Hi DevOps Team,\n",
    "\n",
    "We're experiencing a complete server outage on our main production environment.\n",
    "All user-facing services are down and customers cannot access our platform.\n",
    "\n",
    "The issue started at 2:30 PM EST. We've identified it might be related to\n",
    "the database server, but need immediate investigation.\n",
    "\n",
    "Please treat this as highest priority and escalate to on-call engineers immediately.\n",
    "\n",
    "Error logs are attached. Need status update within 30 minutes.\n",
    "\n",
    "Best regards,\n",
    "Site Reliability Team\n",
    "\"\"\"\n",
    "\n",
    "print(f\"Email sample: {sample_email[:100]}...\")\n",
    "print(\"\\n\" + \"-\" * 50)\n",
    "\n",
    "try:\n",
    "    email_analysis = email_classifier.invoke(\n",
    "        f\"Classify this email: {sample_email}\")\n",
    "\n",
    "    print(f\"✅ Subject: {email_analysis.subject}\")\n",
    "    print(f\"Category: {email_analysis.category}\")\n",
    "    print(f\"Urgency: {email_analysis.urgency}\")\n",
    "    print(f\"Sender type: {email_analysis.sender_type}\")\n",
    "    print(f\"Action required: {email_analysis.action_required}\")\n",
    "    print(f\"Key points: {', '.join(email_analysis.key_points)}\")\n",
    "    print(f\"Suggested response time: {email_analysis.suggested_response_time}\")\n",
    "\n",
    "except Exception as e:\n",
    "    print(f\"❌ Email classification error: {e}\")\n",
    "\n",
    "# ============================================================================="
   ]
  },
  {
   "cell_type": "markdown",
   "metadata": {},
   "source": [
    "## 7. KEY INFORMATION"
   ]
  },
  {
   "cell_type": "markdown",
   "metadata": {},
   "source": [
    "\\n📋 Key Information:"
   ]
  },
  {
   "cell_type": "markdown",
   "metadata": {},
   "source": [
    "✅ .with_structured_output(): Converts LLM responses to structured objects"
   ]
  },
  {
   "cell_type": "markdown",
   "metadata": {},
   "source": [
    "✅ Pydantic BaseModel: Defines data structure with types and validation"
   ]
  },
  {
   "cell_type": "markdown",
   "metadata": {},
   "source": [
    "✅ Field(): Adds descriptions and validation constraints"
   ]
  },
  {
   "cell_type": "markdown",
   "metadata": {},
   "source": [
    "✅ Optional[]: Makes fields optional with default values"
   ]
  },
  {
   "cell_type": "markdown",
   "metadata": {},
   "source": [
    "✅ List[]: Creates list/array fields"
   ]
  },
  {
   "cell_type": "markdown",
   "metadata": {},
   "source": [
    "✅ Enums: Restricts values to specific choices"
   ]
  },
  {
   "cell_type": "markdown",
   "metadata": {},
   "source": [
    "✅ Nested models: Supports complex hierarchical data"
   ]
  },
  {
   "cell_type": "markdown",
   "metadata": {},
   "source": [
    "✅ Validation: Automatic data validation based on field constraints"
   ]
  },
  {
   "cell_type": "markdown",
   "metadata": {},
   "source": [
    "✅ .model_dump(): Converts Pydantic object to dictionary"
   ]
  },
  {
   "cell_type": "markdown",
   "metadata": {},
   "source": [
    "## STUDENT TODO EXERCISE"
   ]
  },
  {
   "cell_type": "markdown",
   "metadata": {},
   "source": [
    "📝 STUDENT TODO EXERCISE"
   ]
  },
  {
   "cell_type": "code",
   "execution_count": 20,
   "metadata": {},
   "outputs": [
    {
     "name": "stdout",
     "output_type": "stream",
     "text": [
      "============================================================\n"
     ]
    },
    {
     "data": {
      "text/plain": [
       "'\\nTODO: Create a Recipe Analyzer\\n\\nRequirements:\\n1. Create a Pydantic model called \\'Recipe\\' with these fields:\\n   - name: str (recipe name)\\n   - cuisine: str (type of cuisine: italian, chinese, mexican, etc.)\\n   - difficulty: str (easy, medium, hard)\\n   - prep_time: int (preparation time in minutes)\\n   - cook_time: int (cooking time in minutes)\\n   - servings: int (number of servings)\\n   - ingredients: List[str] (list of ingredients)\\n   - dietary_restrictions: List[str] (vegetarian, vegan, gluten-free, etc.)\\n   - is_healthy: bool (whether the recipe is considered healthy)\\n\\n2. Test your model with this recipe text:\\n   \"This delicious Italian Margherita Pizza takes 30 minutes to prep and 15 minutes to cook.\\n   It serves 4 people and is perfect for beginners. You\\'ll need pizza dough, tomato sauce,\\n   fresh mozzarella, basil leaves, olive oil, and salt. It\\'s vegetarian-friendly but\\n   not particularly healthy due to the cheese and refined flour.\"\\n\\n3. Print all the extracted information in a readable format\\n\\nYour code here:\\n'"
      ]
     },
     "execution_count": 20,
     "metadata": {},
     "output_type": "execute_result"
    }
   ],
   "source": [
    "print(\"=\" * 60)\n",
    "\n",
    "\"\"\"\n",
    "TODO: Create a Recipe Analyzer\n",
    "\n",
    "Requirements:\n",
    "1. Create a Pydantic model called 'Recipe' with these fields:\n",
    "   - name: str (recipe name)\n",
    "   - cuisine: str (type of cuisine: italian, chinese, mexican, etc.)\n",
    "   - difficulty: str (easy, medium, hard)\n",
    "   - prep_time: int (preparation time in minutes)\n",
    "   - cook_time: int (cooking time in minutes)\n",
    "   - servings: int (number of servings)\n",
    "   - ingredients: List[str] (list of ingredients)\n",
    "   - dietary_restrictions: List[str] (vegetarian, vegan, gluten-free, etc.)\n",
    "   - is_healthy: bool (whether the recipe is considered healthy)\n",
    "\n",
    "2. Test your model with this recipe text:\n",
    "   \"This delicious Italian Margherita Pizza takes 30 minutes to prep and 15 minutes to cook.\n",
    "   It serves 4 people and is perfect for beginners. You'll need pizza dough, tomato sauce,\n",
    "   fresh mozzarella, basil leaves, olive oil, and salt. It's vegetarian-friendly but\n",
    "   not particularly healthy due to the cheese and refined flour.\"\n",
    "\n",
    "3. Print all the extracted information in a readable format\n",
    "\n",
    "Your code here:\n",
    "\"\"\"\n",
    "\n",
    "\n",
    "# TODO: Define your Recipe model\n",
    "# class Recipe(BaseModel):\n",
    "#     # Add your fields here with proper Field() descriptions\n",
    "#     pass\n",
    "\n",
    "# TODO: Create structured LLM for recipe analysis\n",
    "# recipe_llm = llm.with_structured_output(Recipe)\n",
    "\n",
    "# TODO: Test with the provided recipe text\n",
    "# recipe_text = \"This delicious Italian Margherita Pizza...\"\n",
    "#\n",
    "# try:\n",
    "#     recipe_data = recipe_llm.invoke(f\"Extract recipe information: {recipe_text}\")\n",
    "#\n",
    "#     print(\"Recipe Analysis:\")\n",
    "#     print(f\"Name: {recipe_data.name}\")\n",
    "#     # Add more print statements for all fields\n",
    "#\n",
    "# except Exception as e:\n",
    "#     print(f\"Error: {e}\")"
   ]
  },
  {
   "cell_type": "markdown",
   "metadata": {},
   "source": [
    "\\n💡 Hint: Use Field() with good descriptions to help the LLM extract accurate information!"
   ]
  }
 ],
 "metadata": {
  "kernelspec": {
   "display_name": "gcp-genai",
   "language": "python",
   "name": "python3"
  },
  "language_info": {
   "codemirror_mode": {
    "name": "ipython",
    "version": 3
   },
   "file_extension": ".py",
   "mimetype": "text/x-python",
   "name": "python",
   "nbconvert_exporter": "python",
   "pygments_lexer": "ipython3",
   "version": "3.11.13"
  }
 },
 "nbformat": 4,
 "nbformat_minor": 4
}
