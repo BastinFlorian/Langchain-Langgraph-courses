{
 "cells": [
  {
   "cell_type": "code",
   "execution_count": null,
   "metadata": {},
   "outputs": [],
   "source": [
    "!pip install -q langchain-google-genai python-dotenv langchain-core"
   ]
  },
  {
   "cell_type": "markdown",
   "metadata": {},
   "source": [
    "# Streaming Responses with LangChain and Google Gemini\n",
    "\n",
    "In this notebook, we learn:\n",
    "- Streaming LLM responses in real-time\n",
    "- Working with AIMessageChunk objects\n",
    "- Aggregating streamed responses\n",
    "- Building streaming chains\n",
    "\n",
    "Official documentation:\n",
    "- LangChain Streaming: https://python.langchain.com/docs/concepts/streaming/\n",
    "- Streaming Guide: https://python.langchain.com/docs/how_to/streaming/"
   ]
  },
  {
   "cell_type": "code",
   "execution_count": null,
   "metadata": {},
   "outputs": [],
   "source": [
    "from dotenv import load_dotenv\n",
    "from langchain_core.prompts import ChatPromptTemplate, PromptTemplate\n",
    "from langchain_google_genai import ChatGoogleGenerativeAI\n",
    "\n",
    "# Load environment variables\n",
    "load_dotenv()\n",
    "\n",
    "# Initialize the model\n",
    "llm = ChatGoogleGenerativeAI(\n",
    "    model=\"gemini-2.5-flash\",\n",
    "    temperature=0.7,\n",
    "    max_tokens=3000,\n",
    ")\n",
    "\n",
    "print(\"✅ Gemini 2.5 Flash model initialized for streaming\")"
   ]
  },
  {
   "cell_type": "markdown",
   "metadata": {},
   "source": [
    "## 1. BASIC STREAMING"
   ]
  },
  {
   "cell_type": "markdown",
   "metadata": {},
   "source": [
    "📡 1. Basic Streaming"
   ]
  },
  {
   "cell_type": "code",
   "execution_count": null,
   "metadata": {},
   "outputs": [],
   "source": [
    "def demonstrate_basic_streaming():\n",
    "    \"\"\"Show basic streaming functionality\"\"\"\n",
    "    prompt = \"Write a short story about a robot learning to paint. Make it engaging and creative.\"\n",
    "\n",
    "    print(\"🔄 Streaming response:\")\n",
    "    print(\"=\" * 50)\n",
    "\n",
    "    try:\n",
    "        # Stream the response\n",
    "        has_content = False\n",
    "        for chunk in llm.stream(prompt):\n",
    "            if chunk.content:\n",
    "                has_content = True\n",
    "                print(chunk.content, end=\"\", flush=True)\n",
    "\n",
    "        if not has_content:\n",
    "            print(\"No streaming content received. Using regular invoke instead.\")\n",
    "            response = llm.invoke(prompt)\n",
    "            print(response.content)\n",
    "\n",
    "    except Exception as e:\n",
    "        print(f\"Streaming error: {e}\")\n",
    "        print(\"Falling back to regular invoke:\")\n",
    "        response = llm.invoke(prompt)\n",
    "        print(response.content)\n",
    "\n",
    "    print(\"\\n\" + \"=\" * 50)\n",
    "    print(\"✅ Streaming demonstration complete\")\n",
    "\n",
    "\n",
    "demonstrate_basic_streaming()"
   ]
  },
  {
   "cell_type": "markdown",
   "metadata": {},
   "source": [
    "## 2. UNDERSTANDING CHUNKS"
   ]
  },
  {
   "cell_type": "markdown",
   "metadata": {},
   "source": [
    "🧩 2. Understanding AIMessageChunk"
   ]
  },
  {
   "cell_type": "code",
   "execution_count": null,
   "metadata": {},
   "outputs": [],
   "source": [
    "def analyze_chunks():\n",
    "    \"\"\"Analyze the structure of streaming chunks\"\"\"\n",
    "    prompt = \"Explain quantum computing in three sentences.\"\n",
    "\n",
    "    print(\"📊 Chunk analysis:\")\n",
    "    chunks = []\n",
    "\n",
    "    try:\n",
    "        for i, chunk in enumerate(llm.stream(prompt)):\n",
    "            chunks.append(chunk)\n",
    "            print(\n",
    "                f\"Chunk {i}: '{chunk.content}' (type: {type(chunk).__name__})\")\n",
    "\n",
    "            if i >= 5:  # Limit output for demonstration\n",
    "                print(\"... (more chunks)\")\n",
    "                break\n",
    "    except Exception as e:\n",
    "        print(f\"Chunk analysis error: {e}\")\n",
    "        print(\"Using regular invoke for demonstration:\")\n",
    "        response = llm.invoke(prompt)\n",
    "        # Create a mock chunk for demonstration\n",
    "        mock_chunk = type('MockChunk', (), {'content': response.content})()\n",
    "        chunks = [mock_chunk]\n",
    "        print(f\"Mock chunk: '{response.content[:50]}...' (type: AIMessage)\")\n",
    "\n",
    "    return chunks\n",
    "\n",
    "\n",
    "chunk_samples = analyze_chunks()"
   ]
  },
  {
   "cell_type": "markdown",
   "metadata": {},
   "source": [
    "## 3. AGGREGATING STREAMING RESPONSES"
   ]
  },
  {
   "cell_type": "markdown",
   "metadata": {},
   "source": [
    "🔗 3. Aggregating Streaming Responses"
   ]
  },
  {
   "cell_type": "code",
   "execution_count": null,
   "metadata": {},
   "outputs": [],
   "source": [
    "def aggregate_streaming_response(prompt):\n",
    "    \"\"\"Aggregate chunks into a complete response\"\"\"\n",
    "    print(f\"🔄 Processing: {prompt}\")\n",
    "\n",
    "    # Method 1: Manual aggregation\n",
    "    full_response = \"\"\n",
    "    chunk_count = 0\n",
    "\n",
    "    for chunk in llm.stream(prompt):\n",
    "        if chunk.content:\n",
    "            full_response += chunk.content\n",
    "            chunk_count += 1\n",
    "\n",
    "    print(f\"📊 Received {chunk_count} chunks\")\n",
    "    print(f\"📝 Complete response: {full_response}\")\n",
    "\n",
    "    # Method 2: Using chunk addition\n",
    "    print(\"\\n--- Using chunk addition ---\")\n",
    "    aggregated_chunk = None\n",
    "\n",
    "    for chunk in llm.stream(prompt):\n",
    "        if aggregated_chunk is None:\n",
    "            aggregated_chunk = chunk\n",
    "        else:\n",
    "            aggregated_chunk = aggregated_chunk + chunk\n",
    "\n",
    "    print(f\"📝 Aggregated content: {aggregated_chunk.content}\")\n",
    "\n",
    "\n",
    "aggregate_streaming_response(\"What are the benefits of renewable energy?\")"
   ]
  },
  {
   "cell_type": "markdown",
   "metadata": {},
   "source": [
    "## 4. STREAMING WITH PROMPT TEMPLATES"
   ]
  },
  {
   "cell_type": "markdown",
   "metadata": {},
   "source": [
    "📝 4. Streaming with Prompt Templates"
   ]
  },
  {
   "cell_type": "code",
   "execution_count": null,
   "metadata": {},
   "outputs": [],
   "source": [
    "# Create a prompt template\n",
    "story_template = PromptTemplate(\n",
    "    input_variables=[\"character\", \"setting\", \"challenge\"],\n",
    "    template=\"\"\"Write a short story with these elements:\n",
    "- Character: {character}\n",
    "- Setting: {setting}\n",
    "- Challenge: {challenge}\n",
    "\n",
    "Make it engaging and creative.\"\"\"\n",
    ")\n",
    "\n",
    "\n",
    "def stream_with_template(character, setting, challenge):\n",
    "    \"\"\"Stream response using a prompt template\"\"\"\n",
    "    formatted_prompt = story_template.format(\n",
    "        character=character,\n",
    "        setting=setting,\n",
    "        challenge=challenge\n",
    "    )\n",
    "\n",
    "    print(f\"🎭 Creating story with {character} in {setting}\")\n",
    "    print(\"=\" * 60)\n",
    "\n",
    "    for chunk in llm.stream(formatted_prompt):\n",
    "        if chunk.content:\n",
    "            print(chunk.content, end=\"\", flush=True)\n",
    "\n",
    "    print(\"\\n\" + \"=\" * 60)\n",
    "\n",
    "\n",
    "stream_with_template(\n",
    "    character=\"a young inventor\",\n",
    "    setting=\"a floating city in the clouds\",\n",
    "    challenge=\"fixing the city's failing gravity generator\"\n",
    ")"
   ]
  },
  {
   "cell_type": "markdown",
   "metadata": {},
   "source": [
    "## 5. STREAMING CHAINS"
   ]
  },
  {
   "cell_type": "markdown",
   "metadata": {},
   "source": [
    "🔗 5. Streaming Chains"
   ]
  },
  {
   "cell_type": "code",
   "execution_count": null,
   "metadata": {},
   "outputs": [],
   "source": [
    "# Create a streaming chain\n",
    "streaming_template = ChatPromptTemplate.from_messages([\n",
    "    (\"system\", \"You are a creative writing assistant. Write engaging, vivid content.\"),\n",
    "    (\"human\", \"Write about {topic} in an {style} style.\")\n",
    "])\n",
    "\n",
    "# Create streaming chain\n",
    "streaming_chain = streaming_template | llm\n",
    "\n",
    "\n",
    "def demonstrate_streaming_chain():\n",
    "    \"\"\"Show how to stream with chains\"\"\"\n",
    "    print(\"🔄 Streaming chain example:\")\n",
    "\n",
    "    for chunk in streaming_chain.stream({\n",
    "        \"topic\": \"time travel\",\n",
    "        \"style\": \"mysterious\"\n",
    "    }):\n",
    "        if chunk.content:\n",
    "            print(chunk.content, end=\"\", flush=True)\n",
    "\n",
    "    print(\"\\n✅ Chain streaming complete\")\n",
    "\n",
    "\n",
    "demonstrate_streaming_chain()"
   ]
  },
  {
   "cell_type": "markdown",
   "metadata": {},
   "source": [
    "## 10. KEY INFORMATION"
   ]
  },
  {
   "cell_type": "markdown",
   "metadata": {},
   "source": [
    "📋 Key Information:\n",
    "- ✅ .stream(): Stream responses chunk by chunk\n",
    "- ✅ AIMessageChunk: Individual streaming response pieces\n",
    "- ✅ Chunk aggregation: Combine chunks into complete responses\n",
    "- ✅ Real-time processing: Process content as it streams\n",
    "\n",
    "🎯 Next step: Learn about error handling and debugging\n",
    "\n",
    "📚 See: 08_error_handling.py"
   ]
  },
  {
   "cell_type": "markdown",
   "metadata": {},
   "source": [
    "## STUDENT TODO EXERCISE\n",
    "\n",
    "TODO: Create a Streaming Progress Tracker\n",
    "\n",
    "Requirements:\n",
    "1. Create a function called `stream_with_progress` that:\n",
    "   - Takes a prompt and tracks the streaming progress\n",
    "   - Counts words and characters as they stream\n",
    "   - Prints a progress indicator every 10 words\n",
    "   - Returns the complete response and final statistics\n",
    "\n",
    "2. Test your function with this prompt:\n",
    "   \"Write a detailed explanation of how photosynthesis works, including\n",
    "   the light and dark reactions, and why it's important for life on Earth.\"\n",
    "\n",
    "3. Your function should print something like:\n",
    "   - \"[10 words]...\"\n",
    "   - \"[20 words]...\"\n",
    "   - \"Final stats: 87 words, 542 characters\"\n",
    "\n",
    "Your code here:"
   ]
  },
  {
   "cell_type": "code",
   "execution_count": null,
   "metadata": {},
   "outputs": [],
   "source": [
    "# TODO: Implement your streaming progress tracker\n",
    "# def stream_with_progress(prompt):\n",
    "#     # Your implementation here\n",
    "#     word_count = 0\n",
    "#     char_count = 0\n",
    "#     complete_response = \"\"\n",
    "#\n",
    "#     for chunk in llm.stream(prompt):\n",
    "#         if chunk.content:\n",
    "#             # Add your progress tracking logic\n",
    "#             pass\n",
    "#\n",
    "#     return complete_response, {\"words\": word_count, \"chars\": char_count}\n",
    "\n",
    "# TODO: Test your function\n",
    "# test_prompt = \"Write a detailed explanation of how photosynthesis works...\"\n",
    "# response, stats = stream_with_progress(test_prompt)\n",
    "# print(f\"Final response length: {len(response)} characters\")\n",
    "# print(f\"Statistics: {stats}\")\n",
    "\n",
    "print(\"\\n💡 Hint: Use chunk.content to get text, len(text.split()) for word count!\")"
   ]
  }
 ],
 "metadata": {
  "kernelspec": {
   "display_name": "Python 3",
   "language": "python",
   "name": "python3"
  },
  "language_info": {
   "codemirror_mode": {
    "name": "ipython",
    "version": 3
   },
   "file_extension": ".py",
   "mimetype": "text/x-python",
   "name": "python",
   "nbconvert_exporter": "python",
   "pygments_lexer": "ipython3",
   "version": "3.8.0"
  }
 },
 "nbformat": 4,
 "nbformat_minor": 4
}
