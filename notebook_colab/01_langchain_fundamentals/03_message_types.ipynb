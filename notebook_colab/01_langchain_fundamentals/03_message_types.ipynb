{
 "cells": [
  {
   "cell_type": "code",
   "execution_count": 1,
   "metadata": {},
   "outputs": [],
   "source": [
    "!pip install -q langchain-google-genai python-dotenv langchain-core"
   ]
  },
  {
   "cell_type": "code",
   "execution_count": 2,
   "metadata": {},
   "outputs": [],
   "source": [
    "\"\"\"\n",
    "Message Types in LangChain\n",
    "===========================\n",
    "\n",
    "In this notebook, we learn:\n",
    "- Different message types: SystemMessage, HumanMessage, AIMessage\n",
    "- How to construct structured conversations\n",
    "- Best practices for message sequencing\n",
    "- Managing conversation history\n",
    "\n",
    "Official documentation:\n",
    "- LangChain Messages: https://python.langchain.com/docs/concepts/messages/\n",
    "- Chat History: https://python.langchain.com/docs/concepts/chat_history/\n",
    "\"\"\"\n",
    "\n",
    "from dotenv import load_dotenv\n",
    "from langchain_core.messages import AIMessage, HumanMessage, SystemMessage\n",
    "from langchain_google_genai import ChatGoogleGenerativeAI\n",
    "\n",
    "# Load environment variables\n",
    "load_dotenv()\n",
    "\n",
    "# Initialize the model\n",
    "llm = ChatGoogleGenerativeAI(\n",
    "    model=\"gemini-2.5-flash\",\n",
    "    temperature=0.7,\n",
    "    max_tokens=1000,\n",
    ")"
   ]
  },
  {
   "cell_type": "markdown",
   "metadata": {},
   "source": [
    "✅ Gemini 2.5 Flash model initialized"
   ]
  },
  {
   "cell_type": "markdown",
   "metadata": {},
   "source": [
    "## 1. SYSTEM MESSAGE - SETTING BEHAVIOR"
   ]
  },
  {
   "cell_type": "markdown",
   "metadata": {},
   "source": [
    "🔧 1. System Message - Setting AI Behavior"
   ]
  },
  {
   "cell_type": "code",
   "execution_count": 4,
   "metadata": {},
   "outputs": [
    {
     "name": "stdout",
     "output_type": "stream",
     "text": [
      "System message: You are a helpful Python programming tutor. Always provide clear explanations and working code examples.\n",
      "Human question: How do I create a list in Python?\n",
      "AI response: That's a great question! Lists are one of the most fundamental and versatile data structures in Python. They allow you to store collections of items in a specific order.\n",
      "\n",
      "Think of a list like a shopping list or a to-do list – you can add items, remove them, and keep track of their order.\n",
      "\n",
      "Here are the primary ways to create a list in Python, along with clear explanations and code examples:\n",
      "\n",
      "---\n",
      "\n",
      "### 1. Creating an Empty List\n",
      "\n",
      "The simplest way to create a list is to make an empty one. You use square brackets `[]` for this.\n",
      "\n",
      "**Explanation:**\n",
      "This is useful when you want to build a list dynamically later on by adding items one by one.\n",
      "\n",
      "**Code Example:**\n",
      "\n",
      "```python\n",
      "# Method 1: Using empty square brackets\n",
      "my_empty_list_1 = []\n",
      "print(f\"Empty list using []: {my_empty_list_1}\")\n",
      "print(f\"Type of my_empty_list_1: {type(my_empty_list_1)}\")\n",
      "\n",
      "# Method 2: Using the list() constructor without arguments\n",
      "my_empty_list_2 = list()\n",
      "print(f\"Empty list using list(): {my_empty_list_2}\")\n",
      "print(f\"Type of my_empty_list_2: {type(my_empty_list_2)}\")\n",
      "```\n",
      "\n",
      "**Output:**\n",
      "\n",
      "```\n",
      "Empty list using []: []\n",
      "Type of my_empty_list_1: <class 'list'>\n",
      "Empty list using list(): []\n",
      "Type of my_empty_list_2: <class 'list'>\n",
      "```\n",
      "\n",
      "---\n",
      "\n",
      "### 2. Creating a List with Initial Elements\n",
      "\n",
      "This is the most common way to create a list. You place the items you want in the list inside square brackets `[]`, separated by commas.\n",
      "\n",
      "**Explanation:**\n",
      "Lists can hold items of different data types (integers, floats, strings, booleans, and even other lists!).\n",
      "\n",
      "**Code Example:**\n",
      "\n",
      "```python\n",
      "# A list of numbers (integers and floats)\n",
      "numbers = [1, 2, 3, 4.5, 100]\n",
      "print(f\"List of numbers: {numbers}\")\n",
      "\n",
      "# A list of strings\n",
      "fruits = [\"apple\", \"banana\", \"cherry\", \"date\"]\n",
      "print(f\"List of fruits: {fruits}\")\n",
      "\n",
      "# A list with mixed data types\n",
      "mixed_list = [\"hello\", 123, True, 3.14, None]\n",
      "print(f\"List with mixed types: {mixed_list}\")\n",
      "\n",
      "# A list of lists (nested lists)\n",
      "nested_list = [[1, 2], [3, 4], [\"a\", \"b\"]]\n",
      "print(f\"Nested list: {nested_list}\")\n",
      "```\n",
      "\n",
      "**Output:**\n",
      "\n",
      "```\n",
      "List of numbers: [1, 2, 3, 4.5, 100]\n",
      "List of fruits: ['apple', 'banana', 'cherry', 'date']\n",
      "List with mixed types: ['hello', 123, True, 3.14, None]\n",
      "Nested list: [[1, 2], [3, 4], ['a', 'b']]\n",
      "```\n",
      "\n",
      "---\n",
      "\n",
      "### 3. Creating a List from an Iterable using `list()`\n",
      "\n",
      "The `list()` constructor can also take an \"iterable\" (like a string\n"
     ]
    }
   ],
   "source": [
    "\n",
    "# System message defines the AI's role and behavior\n",
    "system_msg = SystemMessage(\n",
    "    content=\"You are a helpful Python programming tutor. Always provide clear explanations and working code examples.\")\n",
    "\n",
    "# Human message with a question\n",
    "human_msg = HumanMessage(content=\"How do I create a list in Python?\")\n",
    "\n",
    "# Send both messages together\n",
    "messages = [system_msg, human_msg]\n",
    "response = llm.invoke(messages)\n",
    "\n",
    "print(f\"System message: {system_msg.content}\")\n",
    "print(f\"Human question: {human_msg.content}\")\n",
    "print(f\"AI response: {response.content}\")\n",
    "\n",
    "# ============================================================================="
   ]
  },
  {
   "cell_type": "markdown",
   "metadata": {},
   "source": [
    "## 2. CONVERSATION WITH HISTORY"
   ]
  },
  {
   "cell_type": "markdown",
   "metadata": {},
   "source": [
    "💬 2. Building a Conversation with History"
   ]
  },
  {
   "cell_type": "code",
   "execution_count": 5,
   "metadata": {},
   "outputs": [
    {
     "name": "stdout",
     "output_type": "stream",
     "text": [
      "Human: I want to make pasta. What ingredients do I need?\n",
      "AI: Great! Making fresh pasta is a really rewarding experience. You don't need many ingredients for a basic, delicious dough.\n",
      "\n",
      "Here's what you'll need for a standard egg pasta (which is what most people think of when they say \"homemade pasta\"):\n",
      "\n",
      "1.  **Flour:**\n",
      "    *   **\"00\" Flour (doppio zero):** This is the traditional Italian flour for pasta. It's very finely milled and gives a silky, tender texture. You can usually find it in well-stocked grocery stores or Italian markets.\n",
      "    *   **All-Purpose Flour:** If you can't find \"00\" flour, regular all-purpose flour works perfectly well! Your pasta will still be fantastic.\n",
      "    *   **Semolina Flour (optional):** Some recipes use a mix of \"00\" or AP flour with a small amount of fine semolina flour. This adds a bit of chewiness and a lovely golden color.\n",
      "\n",
      "    *   **Quantity:** A good starting point for about 2-4 servings is **2 cups (about 250g) of flour.**\n",
      "\n",
      "2.  **Eggs:**\n",
      "    *   **Large Whole Eggs:** These provide the moisture, richness, and binding for the dough.\n",
      "    *   **Quantity:** For 2 cups of flour, you'll typically need **2 large eggs.** Sometimes, depending on the size of the eggs and the humidity, you might need an extra yolk or a tiny bit of water.\n",
      "\n",
      "3.  **Salt:**\n",
      "    *   **Fine Sea Salt:** Just a pinch enhances the flavor of the pasta itself.\n",
      "    *   **Quantity:** About **1/2 teaspoon.**\n",
      "\n",
      "4.  **Olive Oil (Optional):**\n",
      "    *   A small drizzle can add a little elasticity and make the dough easier to work with, but it's not strictly necessary.\n",
      "    *   **Quantity:** About **1 tablespoon.**\n",
      "\n",
      "**So, a basic shopping list for homemade egg pasta:**\n",
      "\n",
      "*   **2 cups \"00\" flour or All-Purpose Flour**\n",
      "*   **2 large eggs**\n",
      "*   **1/2 teaspoon fine sea salt**\n",
      "*   **(Optional) 1 tablespoon olive oil**\n",
      "\n",
      "That's it! With these simple ingredients, you're well on your way to making delicious fresh pasta.\n",
      "\n",
      "Human: How long should I cook the pasta?\n",
      "AI: That's a crucial question, especially since you're making **fresh pasta!** Fresh pasta cooks significantly faster than dried pasta.\n",
      "\n",
      "Here's a breakdown of how long to cook your homemade pasta:\n",
      "\n",
      "### For Homemade Fresh Pasta:\n",
      "\n",
      "The cooking time for fresh pasta is surprisingly short, often just a few minutes. It largely depends on the thickness of your pasta and the shape.\n",
      "\n",
      "*   **Thin Strands (e.g., Fettuccine, Tagliatelle, Spaghetti, Linguine):**\n",
      "    *   **1-2 minutes.** Sometimes even less if it's very thin.\n"
     ]
    }
   ],
   "source": [
    "\n",
    "# Start a conversation with context\n",
    "conversation = [\n",
    "    SystemMessage(\n",
    "        content=\"You are a helpful cooking assistant. Give practical cooking advice.\"),\n",
    "    HumanMessage(content=\"I want to make pasta. What ingredients do I need?\"),\n",
    "]\n",
    "\n",
    "# Get first response\n",
    "first_response = llm.invoke(conversation)\n",
    "print(f\"Human: {conversation[1].content}\")\n",
    "print(f\"AI: {first_response.content}\")\n",
    "\n",
    "# Add the AI response to conversation history\n",
    "conversation.append(AIMessage(content=first_response.content))\n",
    "\n",
    "# Continue the conversation\n",
    "conversation.append(HumanMessage(content=\"How long should I cook the pasta?\"))\n",
    "\n",
    "# Get second response with full context\n",
    "second_response = llm.invoke(conversation)\n",
    "print(f\"\\nHuman: {conversation[3].content}\")\n",
    "print(f\"AI: {second_response.content}\")\n",
    "\n",
    "# ============================================================================="
   ]
  },
  {
   "cell_type": "markdown",
   "metadata": {},
   "source": [
    "## 3. DIFFERENT SYSTEM MESSAGE STYLES"
   ]
  },
  {
   "cell_type": "markdown",
   "metadata": {},
   "source": [
    "\\n🎭 3. Different System Message Styles"
   ]
  },
  {
   "cell_type": "code",
   "execution_count": 6,
   "metadata": {},
   "outputs": [
    {
     "name": "stdout",
     "output_type": "stream",
     "text": [
      "\n",
      "--- TEACHER PERSONA ---\n",
      "Response: \n",
      "\n",
      "--- EXPERT PERSONA ---\n",
      "Response: \n",
      "\n",
      "--- FRIEND PERSONA ---\n",
      "Response: Hey there! That's a super common question, and honestly, you can't go wrong with either one for a first project – they're both fantastic and super popular.\n",
      "\n",
      "It really kinda depends on what kind of project you're dreaming up:\n",
      "\n",
      "*   **Python** is often recommended for beginners because its code tends to be really readable, almost like plain English. It's awesome for things like:\n",
      "    *   **Data stuff:** If you're into analyzing data, making sense of numbers, or even just automating boring tasks on your computer.\n",
      "    *   **Backend web development:** If you want to build the \"brain\" of a website (the parts users don't see, like databases and servers).\n",
      "    *   **Simple scripts:** Just wanting to make your computer do something cool or repetitive for you.\n",
      "    *   **AI/Machine Learning:** If that's a long-term interest, Python is the king there.\n",
      "\n",
      "*   **JavaScript** is the language of the web! If you want to build anything that runs in a web browser, it's pretty much essential. It's great for:\n",
      "    *   **Frontend web development:** Making websites interactive, adding animations, handling button clicks – basically everything you *see* and *interact with* on a webpage.\n",
      "    *   **Full-stack web development:** With tools like Node.js, you can even use JavaScript to build the backend of a website too, meaning you can build an entire web application with just one language!\n",
      "    *   **Mobile apps:** You can even use it for building mobile apps with frameworks like React Native.\n",
      "\n",
      "**So, my friendly advice:**\n",
      "\n",
      "Think about what kind of project gets you excited!\n",
      "\n",
      "*   Want to build a cool, interactive website or a simple game that runs in a browser? **JavaScript** might be a fun starting point.\n",
      "*   Want to automate something, process some data, or build a simple text-based game or tool for your computer? **Python** could be a great fit.\n",
      "\n",
      "No matter which you pick, you'll learn core programming concepts that transfer easily to other languages later on. Just pick the one that feels more aligned with your first project idea and dive in! You got this! 🎉\n",
      "\n",
      "--- CRITIC PERSONA ---\n",
      "Response: \n"
     ]
    }
   ],
   "source": [
    "\n",
    "# Define different system personas\n",
    "personas = {\n",
    "    \"teacher\": \"You are a patient teacher. Explain concepts step by step with simple examples.\",\n",
    "    \"expert\": \"You are a technical expert. Provide detailed, accurate information with technical depth.\",\n",
    "    \"friend\": \"You are a friendly companion. Be casual, encouraging, and use everyday language.\",\n",
    "    \"critic\": \"You are a constructive critic. Point out potential issues and suggest improvements.\"\n",
    "}\n",
    "\n",
    "question = \"Should I use Python or JavaScript for my first programming project?\"\n",
    "\n",
    "for persona_name, persona_description in personas.items():\n",
    "    print(f\"\\n--- {persona_name.upper()} PERSONA ---\")\n",
    "\n",
    "    messages = [\n",
    "        SystemMessage(content=persona_description),\n",
    "        HumanMessage(content=question)\n",
    "    ]\n",
    "\n",
    "    response = llm.invoke(messages)\n",
    "    print(f\"Response: {response.content}\")\n",
    "\n",
    "# ============================================================================="
   ]
  },
  {
   "cell_type": "markdown",
   "metadata": {},
   "source": [
    "## 4. MESSAGE ATTRIBUTES AND METADATA"
   ]
  },
  {
   "cell_type": "markdown",
   "metadata": {},
   "source": [
    "📊 4. Message Attributes and Metadata"
   ]
  },
  {
   "cell_type": "code",
   "execution_count": 7,
   "metadata": {},
   "outputs": [
    {
     "name": "stdout",
     "output_type": "stream",
     "text": [
      "System message content: You are a helpful assistant.\n",
      "System message type: SystemMessage\n",
      "System message kwargs: {'role_description': 'system'}\n",
      "\n",
      "Human message content: What's the weather like?\n",
      "Human message type: HumanMessage\n",
      "Human message kwargs: {'user_id': 'user123', 'timestamp': '2025-01-01'}\n"
     ]
    }
   ],
   "source": [
    "\n",
    "# Create messages with additional metadata\n",
    "system_msg = SystemMessage(\n",
    "    content=\"You are a helpful assistant.\",\n",
    "    additional_kwargs={\"role_description\": \"system\"}\n",
    ")\n",
    "\n",
    "human_msg = HumanMessage(\n",
    "    content=\"What's the weather like?\",\n",
    "    additional_kwargs={\"user_id\": \"user123\", \"timestamp\": \"2025-01-01\"}\n",
    ")\n",
    "\n",
    "print(f\"System message content: {system_msg.content}\")\n",
    "print(f\"System message type: {type(system_msg).__name__}\")\n",
    "print(f\"System message kwargs: {system_msg.additional_kwargs}\")\n",
    "\n",
    "print(f\"\\nHuman message content: {human_msg.content}\")\n",
    "print(f\"Human message type: {type(human_msg).__name__}\")\n",
    "print(f\"Human message kwargs: {human_msg.additional_kwargs}\")\n",
    "\n",
    "# ============================================================================="
   ]
  },
  {
   "cell_type": "markdown",
   "metadata": {},
   "source": [
    "## 7. KEY INFORMATION"
   ]
  },
  {
   "cell_type": "markdown",
   "metadata": {},
   "source": [
    "\\n📋 Key Information:"
   ]
  },
  {
   "cell_type": "markdown",
   "metadata": {},
   "source": [
    "✅ SystemMessage: Sets AI behavior and role"
   ]
  },
  {
   "cell_type": "markdown",
   "metadata": {},
   "source": [
    "✅ HumanMessage: Represents user input"
   ]
  },
  {
   "cell_type": "markdown",
   "metadata": {},
   "source": [
    "✅ AIMessage: Represents AI responses"
   ]
  },
  {
   "cell_type": "markdown",
   "metadata": {},
   "source": [
    "✅ Messages are processed in sequence"
   ]
  },
  {
   "cell_type": "markdown",
   "metadata": {},
   "source": [
    "✅ Conversation history provides context"
   ]
  },
  {
   "cell_type": "markdown",
   "metadata": {},
   "source": [
    "✅ System messages should be clear and specific"
   ]
  },
  {
   "cell_type": "markdown",
   "metadata": {},
   "source": [
    "✅ Use additional_kwargs for metadata"
   ]
  },
  {
   "cell_type": "markdown",
   "metadata": {},
   "source": [
    "## STUDENT TODO EXERCISE"
   ]
  },
  {
   "cell_type": "markdown",
   "metadata": {},
   "source": [
    "📝 STUDENT TODO EXERCISE"
   ]
  },
  {
   "cell_type": "code",
   "execution_count": 10,
   "metadata": {},
   "outputs": [
    {
     "name": "stdout",
     "output_type": "stream",
     "text": [
      "============================================================\n"
     ]
    },
    {
     "data": {
      "text/plain": [
       "\"\\nTODO: Create a customer service chatbot conversation\\n\\nRequirements:\\n1. Create a SystemMessage that defines a helpful customer service agent\\n2. Create a conversation where:\\n   - Customer asks about return policy\\n   - Agent responds\\n   - Customer asks a follow-up question about refund timing\\n   - Agent provides final response\\n\\n3. Print the complete conversation history\\n4. Make sure to include AIMessage for the agent's responses\\n\\nYour code here:\\n\""
      ]
     },
     "execution_count": 10,
     "metadata": {},
     "output_type": "execute_result"
    }
   ],
   "source": [
    "print(\"=\" * 60)\n",
    "\n",
    "\"\"\"\n",
    "TODO: Create a customer service chatbot conversation\n",
    "\n",
    "Requirements:\n",
    "1. Create a SystemMessage that defines a helpful customer service agent\n",
    "2. Create a conversation where:\n",
    "   - Customer asks about return policy\n",
    "   - Agent responds\n",
    "   - Customer asks a follow-up question about refund timing\n",
    "   - Agent provides final response\n",
    "\n",
    "3. Print the complete conversation history\n",
    "4. Make sure to include AIMessage for the agent's responses\n",
    "\n",
    "Your code here:\n",
    "\"\"\"\n",
    "\n",
    "# TODO: Define your customer service system message that answers\n",
    "# - Always in English\n",
    "# - Doing joke\n",
    "# - Friendly tone\n",
    "# - Provides clear answers always with a table in the answer\n",
    "# system_message = SystemMessage(\n",
    "#     content=\"Your system prompt here...\"\n",
    "# )\n",
    "\n",
    "# TODO: Create the conversation flow\n",
    "# conversation = [\n",
    "#     system_message,\n",
    "#     # Add HumanMessage for first question\n",
    "#     # Get response and add AIMessage\n",
    "#     # Add HumanMessage for follow-up\n",
    "#     # Get final response\n",
    "# ]\n",
    "\n",
    "# TODO: Print the complete conversation\n",
    "# for i, message in enumerate(conversation):\n",
    "#     print(f\"{i+1}. {type(message).__name__}: {message.content}\")"
   ]
  },
  {
   "cell_type": "markdown",
   "metadata": {},
   "source": [
    "💡 Hint: Remember to add each AI response as an AIMessage to maintain conversation history!"
   ]
  }
 ],
 "metadata": {
  "kernelspec": {
   "display_name": "gcp-genai",
   "language": "python",
   "name": "python3"
  },
  "language_info": {
   "codemirror_mode": {
    "name": "ipython",
    "version": 3
   },
   "file_extension": ".py",
   "mimetype": "text/x-python",
   "name": "python",
   "nbconvert_exporter": "python",
   "pygments_lexer": "ipython3",
   "version": "3.11.13"
  }
 },
 "nbformat": 4,
 "nbformat_minor": 4
}
